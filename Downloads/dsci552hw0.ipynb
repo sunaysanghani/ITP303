{
 "cells": [
  {
   "cell_type": "code",
   "execution_count": 1,
   "id": "dc0e5af7",
   "metadata": {},
   "outputs": [],
   "source": [
    "import pandas as pd\n",
    "import csv\n",
    "import os"
   ]
  },
  {
   "cell_type": "markdown",
   "id": "34514e59",
   "metadata": {},
   "source": [
    "PANDAS"
   ]
  },
  {
   "cell_type": "code",
   "execution_count": 2,
   "id": "bbfc7a13",
   "metadata": {},
   "outputs": [],
   "source": [
    "trainFile = \"C:/Users/sunay/Downloads/Salaries.csv\"\n",
    "\n",
    "pwd = os.getcwd()\n",
    "os.chdir(os.path.dirname(trainFile))\n",
    "trainData = pd.read_csv(os.path.basename(trainFile))\n",
    "os.chdir(pwd)"
   ]
  },
  {
   "cell_type": "code",
   "execution_count": 3,
   "id": "db115304",
   "metadata": {},
   "outputs": [
    {
     "data": {
      "text/html": [
       "<div>\n",
       "<style scoped>\n",
       "    .dataframe tbody tr th:only-of-type {\n",
       "        vertical-align: middle;\n",
       "    }\n",
       "\n",
       "    .dataframe tbody tr th {\n",
       "        vertical-align: top;\n",
       "    }\n",
       "\n",
       "    .dataframe thead th {\n",
       "        text-align: right;\n",
       "    }\n",
       "</style>\n",
       "<table border=\"1\" class=\"dataframe\">\n",
       "  <thead>\n",
       "    <tr style=\"text-align: right;\">\n",
       "      <th></th>\n",
       "      <th>yearID</th>\n",
       "      <th>teamID</th>\n",
       "      <th>lgID</th>\n",
       "      <th>playerID</th>\n",
       "      <th>salary</th>\n",
       "    </tr>\n",
       "  </thead>\n",
       "  <tbody>\n",
       "    <tr>\n",
       "      <th>0</th>\n",
       "      <td>1985</td>\n",
       "      <td>ATL</td>\n",
       "      <td>NL</td>\n",
       "      <td>barkele01</td>\n",
       "      <td>870000</td>\n",
       "    </tr>\n",
       "    <tr>\n",
       "      <th>1</th>\n",
       "      <td>1985</td>\n",
       "      <td>ATL</td>\n",
       "      <td>NL</td>\n",
       "      <td>bedrost01</td>\n",
       "      <td>550000</td>\n",
       "    </tr>\n",
       "    <tr>\n",
       "      <th>2</th>\n",
       "      <td>1985</td>\n",
       "      <td>ATL</td>\n",
       "      <td>NL</td>\n",
       "      <td>benedbr01</td>\n",
       "      <td>545000</td>\n",
       "    </tr>\n",
       "    <tr>\n",
       "      <th>3</th>\n",
       "      <td>1985</td>\n",
       "      <td>ATL</td>\n",
       "      <td>NL</td>\n",
       "      <td>campri01</td>\n",
       "      <td>633333</td>\n",
       "    </tr>\n",
       "    <tr>\n",
       "      <th>4</th>\n",
       "      <td>1985</td>\n",
       "      <td>ATL</td>\n",
       "      <td>NL</td>\n",
       "      <td>ceronri01</td>\n",
       "      <td>625000</td>\n",
       "    </tr>\n",
       "    <tr>\n",
       "      <th>...</th>\n",
       "      <td>...</td>\n",
       "      <td>...</td>\n",
       "      <td>...</td>\n",
       "      <td>...</td>\n",
       "      <td>...</td>\n",
       "    </tr>\n",
       "    <tr>\n",
       "      <th>25570</th>\n",
       "      <td>2015</td>\n",
       "      <td>WAS</td>\n",
       "      <td>NL</td>\n",
       "      <td>treinbl01</td>\n",
       "      <td>512800</td>\n",
       "    </tr>\n",
       "    <tr>\n",
       "      <th>25571</th>\n",
       "      <td>2015</td>\n",
       "      <td>WAS</td>\n",
       "      <td>NL</td>\n",
       "      <td>ugglada01</td>\n",
       "      <td>507500</td>\n",
       "    </tr>\n",
       "    <tr>\n",
       "      <th>25572</th>\n",
       "      <td>2015</td>\n",
       "      <td>WAS</td>\n",
       "      <td>NL</td>\n",
       "      <td>werthja01</td>\n",
       "      <td>21000000</td>\n",
       "    </tr>\n",
       "    <tr>\n",
       "      <th>25573</th>\n",
       "      <td>2015</td>\n",
       "      <td>WAS</td>\n",
       "      <td>NL</td>\n",
       "      <td>zimmejo02</td>\n",
       "      <td>16500000</td>\n",
       "    </tr>\n",
       "    <tr>\n",
       "      <th>25574</th>\n",
       "      <td>2015</td>\n",
       "      <td>WAS</td>\n",
       "      <td>NL</td>\n",
       "      <td>zimmery01</td>\n",
       "      <td>14000000</td>\n",
       "    </tr>\n",
       "  </tbody>\n",
       "</table>\n",
       "<p>25575 rows × 5 columns</p>\n",
       "</div>"
      ],
      "text/plain": [
       "       yearID teamID lgID   playerID    salary\n",
       "0        1985    ATL   NL  barkele01    870000\n",
       "1        1985    ATL   NL  bedrost01    550000\n",
       "2        1985    ATL   NL  benedbr01    545000\n",
       "3        1985    ATL   NL   campri01    633333\n",
       "4        1985    ATL   NL  ceronri01    625000\n",
       "...       ...    ...  ...        ...       ...\n",
       "25570    2015    WAS   NL  treinbl01    512800\n",
       "25571    2015    WAS   NL  ugglada01    507500\n",
       "25572    2015    WAS   NL  werthja01  21000000\n",
       "25573    2015    WAS   NL  zimmejo02  16500000\n",
       "25574    2015    WAS   NL  zimmery01  14000000\n",
       "\n",
       "[25575 rows x 5 columns]"
      ]
     },
     "execution_count": 3,
     "metadata": {},
     "output_type": "execute_result"
    }
   ],
   "source": [
    "trainData"
   ]
  },
  {
   "cell_type": "code",
   "execution_count": 13,
   "id": "30a52098",
   "metadata": {},
   "outputs": [],
   "source": [
    "new_dict = {}\n",
    "for index, row in trainData.iterrows():\n",
    "    row_dict = row.to_dict()\n",
    "    new_dict[index] = row_dict"
   ]
  },
  {
   "cell_type": "code",
   "execution_count": 12,
   "id": "82e2d5f4",
   "metadata": {},
   "outputs": [
    {
     "data": {
      "text/html": [
       "<div>\n",
       "<style scoped>\n",
       "    .dataframe tbody tr th:only-of-type {\n",
       "        vertical-align: middle;\n",
       "    }\n",
       "\n",
       "    .dataframe tbody tr th {\n",
       "        vertical-align: top;\n",
       "    }\n",
       "\n",
       "    .dataframe thead th {\n",
       "        text-align: right;\n",
       "    }\n",
       "</style>\n",
       "<table border=\"1\" class=\"dataframe\">\n",
       "  <thead>\n",
       "    <tr style=\"text-align: right;\">\n",
       "      <th></th>\n",
       "      <th>yearID</th>\n",
       "      <th>teamID</th>\n",
       "      <th>lgID</th>\n",
       "      <th>playerID</th>\n",
       "      <th>salary</th>\n",
       "    </tr>\n",
       "  </thead>\n",
       "  <tbody>\n",
       "    <tr>\n",
       "      <th>10</th>\n",
       "      <td>1985</td>\n",
       "      <td>ATL</td>\n",
       "      <td>NL</td>\n",
       "      <td>hornebo01</td>\n",
       "      <td>1500000</td>\n",
       "    </tr>\n",
       "    <tr>\n",
       "      <th>15</th>\n",
       "      <td>1985</td>\n",
       "      <td>ATL</td>\n",
       "      <td>NL</td>\n",
       "      <td>murphda05</td>\n",
       "      <td>1625000</td>\n",
       "    </tr>\n",
       "    <tr>\n",
       "      <th>20</th>\n",
       "      <td>1985</td>\n",
       "      <td>ATL</td>\n",
       "      <td>NL</td>\n",
       "      <td>suttebr01</td>\n",
       "      <td>1354167</td>\n",
       "    </tr>\n",
       "    <tr>\n",
       "      <th>216</th>\n",
       "      <td>1985</td>\n",
       "      <td>HOU</td>\n",
       "      <td>NL</td>\n",
       "      <td>ryanno01</td>\n",
       "      <td>1350000</td>\n",
       "    </tr>\n",
       "    <tr>\n",
       "      <th>559</th>\n",
       "      <td>1986</td>\n",
       "      <td>ATL</td>\n",
       "      <td>NL</td>\n",
       "      <td>hornebo01</td>\n",
       "      <td>1800000</td>\n",
       "    </tr>\n",
       "    <tr>\n",
       "      <th>...</th>\n",
       "      <td>...</td>\n",
       "      <td>...</td>\n",
       "      <td>...</td>\n",
       "      <td>...</td>\n",
       "      <td>...</td>\n",
       "    </tr>\n",
       "    <tr>\n",
       "      <th>25053</th>\n",
       "      <td>2015</td>\n",
       "      <td>HOU</td>\n",
       "      <td>AL</td>\n",
       "      <td>quallch01</td>\n",
       "      <td>3000000</td>\n",
       "    </tr>\n",
       "    <tr>\n",
       "      <th>25054</th>\n",
       "      <td>2015</td>\n",
       "      <td>HOU</td>\n",
       "      <td>AL</td>\n",
       "      <td>rasmuco01</td>\n",
       "      <td>8000000</td>\n",
       "    </tr>\n",
       "    <tr>\n",
       "      <th>25055</th>\n",
       "      <td>2015</td>\n",
       "      <td>HOU</td>\n",
       "      <td>AL</td>\n",
       "      <td>singljo02</td>\n",
       "      <td>2000000</td>\n",
       "    </tr>\n",
       "    <tr>\n",
       "      <th>25056</th>\n",
       "      <td>2015</td>\n",
       "      <td>HOU</td>\n",
       "      <td>AL</td>\n",
       "      <td>sippto01</td>\n",
       "      <td>2400000</td>\n",
       "    </tr>\n",
       "    <tr>\n",
       "      <th>25059</th>\n",
       "      <td>2015</td>\n",
       "      <td>HOU</td>\n",
       "      <td>AL</td>\n",
       "      <td>valbulu01</td>\n",
       "      <td>4200000</td>\n",
       "    </tr>\n",
       "  </tbody>\n",
       "</table>\n",
       "<p>595 rows × 5 columns</p>\n",
       "</div>"
      ],
      "text/plain": [
       "       yearID teamID lgID   playerID   salary\n",
       "10       1985    ATL   NL  hornebo01  1500000\n",
       "15       1985    ATL   NL  murphda05  1625000\n",
       "20       1985    ATL   NL  suttebr01  1354167\n",
       "216      1985    HOU   NL   ryanno01  1350000\n",
       "559      1986    ATL   NL  hornebo01  1800000\n",
       "...       ...    ...  ...        ...      ...\n",
       "25053    2015    HOU   AL  quallch01  3000000\n",
       "25054    2015    HOU   AL  rasmuco01  8000000\n",
       "25055    2015    HOU   AL  singljo02  2000000\n",
       "25056    2015    HOU   AL   sippto01  2400000\n",
       "25059    2015    HOU   AL  valbulu01  4200000\n",
       "\n",
       "[595 rows x 5 columns]"
      ]
     },
     "execution_count": 12,
     "metadata": {},
     "output_type": "execute_result"
    }
   ],
   "source": [
    "salaryDF = trainData[(trainData['teamID'] == 'ATL') | (trainData['teamID'] == 'HOU')]\n",
    "salaryDF[salaryDF['salary'] > 1000000]"
   ]
  },
  {
   "cell_type": "code",
   "execution_count": 5,
   "id": "51530e91",
   "metadata": {},
   "outputs": [
    {
     "data": {
      "text/html": [
       "<div>\n",
       "<style scoped>\n",
       "    .dataframe tbody tr th:only-of-type {\n",
       "        vertical-align: middle;\n",
       "    }\n",
       "\n",
       "    .dataframe tbody tr th {\n",
       "        vertical-align: top;\n",
       "    }\n",
       "\n",
       "    .dataframe thead th {\n",
       "        text-align: right;\n",
       "    }\n",
       "</style>\n",
       "<table border=\"1\" class=\"dataframe\">\n",
       "  <thead>\n",
       "    <tr style=\"text-align: right;\">\n",
       "      <th></th>\n",
       "      <th>yearID</th>\n",
       "      <th>salary</th>\n",
       "    </tr>\n",
       "  </thead>\n",
       "  <tbody>\n",
       "    <tr>\n",
       "      <th>count</th>\n",
       "      <td>886.000000</td>\n",
       "      <td>8.860000e+02</td>\n",
       "    </tr>\n",
       "    <tr>\n",
       "      <th>mean</th>\n",
       "      <td>1999.708804</td>\n",
       "      <td>2.206239e+06</td>\n",
       "    </tr>\n",
       "    <tr>\n",
       "      <th>std</th>\n",
       "      <td>8.775471</td>\n",
       "      <td>3.432673e+06</td>\n",
       "    </tr>\n",
       "    <tr>\n",
       "      <th>min</th>\n",
       "      <td>1985.000000</td>\n",
       "      <td>6.000000e+04</td>\n",
       "    </tr>\n",
       "    <tr>\n",
       "      <th>25%</th>\n",
       "      <td>1992.000000</td>\n",
       "      <td>3.000000e+05</td>\n",
       "    </tr>\n",
       "    <tr>\n",
       "      <th>50%</th>\n",
       "      <td>1999.000000</td>\n",
       "      <td>6.000000e+05</td>\n",
       "    </tr>\n",
       "    <tr>\n",
       "      <th>75%</th>\n",
       "      <td>2007.000000</td>\n",
       "      <td>2.390625e+06</td>\n",
       "    </tr>\n",
       "    <tr>\n",
       "      <th>max</th>\n",
       "      <td>2015.000000</td>\n",
       "      <td>1.606180e+07</td>\n",
       "    </tr>\n",
       "  </tbody>\n",
       "</table>\n",
       "</div>"
      ],
      "text/plain": [
       "            yearID        salary\n",
       "count   886.000000  8.860000e+02\n",
       "mean   1999.708804  2.206239e+06\n",
       "std       8.775471  3.432673e+06\n",
       "min    1985.000000  6.000000e+04\n",
       "25%    1992.000000  3.000000e+05\n",
       "50%    1999.000000  6.000000e+05\n",
       "75%    2007.000000  2.390625e+06\n",
       "max    2015.000000  1.606180e+07"
      ]
     },
     "execution_count": 5,
     "metadata": {},
     "output_type": "execute_result"
    }
   ],
   "source": [
    "trainData[trainData['teamID'] == 'ATL'].describe()"
   ]
  },
  {
   "cell_type": "code",
   "execution_count": 16,
   "id": "3463cba4",
   "metadata": {},
   "outputs": [
    {
     "name": "stderr",
     "output_type": "stream",
     "text": [
      "C:\\Users\\sunay\\AppData\\Local\\Temp/ipykernel_9932/1961856167.py:3: UserWarning: Pandas doesn't allow columns to be created via a new attribute name - see https://pandas.pydata.org/pandas-docs/stable/indexing.html#attribute-access\n",
      "  new_df.headers = new_headers\n"
     ]
    }
   ],
   "source": [
    "new_df = pd.DataFrame(new_dict)\n",
    "new_headers = ['a','b','c','d','e']\n",
    "new_df.headers = new_headers"
   ]
  },
  {
   "cell_type": "markdown",
   "id": "f9c6b1ba",
   "metadata": {},
   "source": [
    "NUMPY"
   ]
  },
  {
   "cell_type": "code",
   "execution_count": 3,
   "id": "e9d16343",
   "metadata": {},
   "outputs": [],
   "source": [
    "import numpy as np\n",
    "two_d = [[1,2,3,4,3,4,5,6]]\n",
    "two_d = np.array(two_d)"
   ]
  },
  {
   "cell_type": "code",
   "execution_count": 10,
   "id": "ffa1ae72",
   "metadata": {},
   "outputs": [
    {
     "ename": "ValueError",
     "evalue": "The truth value of an array with more than one element is ambiguous. Use a.any() or a.all()",
     "output_type": "error",
     "traceback": [
      "\u001b[1;31m---------------------------------------------------------------------------\u001b[0m",
      "\u001b[1;31mValueError\u001b[0m                                Traceback (most recent call last)",
      "\u001b[1;32m~\\AppData\\Local\\Temp/ipykernel_31536/3632736033.py\u001b[0m in \u001b[0;36m<module>\u001b[1;34m\u001b[0m\n\u001b[0;32m      2\u001b[0m \u001b[0mtwo_d\u001b[0m\u001b[1;33m.\u001b[0m\u001b[0mmin\u001b[0m\u001b[1;33m(\u001b[0m\u001b[1;33m)\u001b[0m\u001b[1;33m\u001b[0m\u001b[1;33m\u001b[0m\u001b[0m\n\u001b[0;32m      3\u001b[0m \u001b[0mnp\u001b[0m\u001b[1;33m.\u001b[0m\u001b[0msqrt\u001b[0m\u001b[1;33m(\u001b[0m\u001b[0mtwo_d\u001b[0m\u001b[1;33m)\u001b[0m\u001b[1;33m\u001b[0m\u001b[1;33m\u001b[0m\u001b[0m\n\u001b[1;32m----> 4\u001b[1;33m \u001b[0mnp\u001b[0m\u001b[1;33m.\u001b[0m\u001b[0marange\u001b[0m\u001b[1;33m(\u001b[0m\u001b[0mtwo_d\u001b[0m\u001b[1;33m)\u001b[0m\u001b[1;33m\u001b[0m\u001b[1;33m\u001b[0m\u001b[0m\n\u001b[0m",
      "\u001b[1;31mValueError\u001b[0m: The truth value of an array with more than one element is ambiguous. Use a.any() or a.all()"
     ]
    }
   ],
   "source": [
    "two_d.argmin()\n",
    "two_d.min()\n",
    "np.sqrt(two_d)\n",
    "np.arange()"
   ]
  },
  {
   "cell_type": "markdown",
   "id": "96274c48",
   "metadata": {},
   "source": [
    "MATPLOTLIB"
   ]
  },
  {
   "cell_type": "code",
   "execution_count": 20,
   "id": "06411c00",
   "metadata": {},
   "outputs": [],
   "source": [
    "import matplotlib.pyplot as plt"
   ]
  },
  {
   "cell_type": "code",
   "execution_count": 22,
   "id": "37773878",
   "metadata": {},
   "outputs": [
    {
     "data": {
      "image/png": "[encoded data removed]",
      "text/plain": [
       "<Figure size 432x288 with 1 Axes>"
      ]
     },
     "metadata": {
      "needs_background": "light"
     },
     "output_type": "display_data"
    }
   ],
   "source": [
    "x = [1,2,3,4,5,6,7,8,9,10]\n",
    "y = [100,200,300,400,500,600,700,800,900,1000]\n",
    "\n",
    "plt.plot(x,y)\n",
    "plt.title(\"Sample Graph\")\n",
    "plt.xlabel(\"x-axis\")\n",
    "plt.ylabel(\"y-axis\")\n",
    "plt.grid()"
   ]
  },
  {
   "cell_type": "code",
   "execution_count": null,
   "id": "24752637",
   "metadata": {},
   "outputs": [],
   "source": [
    "x1 = [1,2,3,4]\n",
    "y1 = [3,4,5,6]\n",
    "y2 = [3,5,6,9,10]\n",
    "fig, axes = subplots(1, 2, figsize =(10,4))\n"
   ]
  }
 ],
 "metadata": {
  "kernelspec": {
   "display_name": "Python 3 (ipykernel)",
   "language": "python",
   "name": "python3"
  },
  "language_info": {
   "codemirror_mode": {
    "name": "ipython",
    "version": 3
   },
   "file_extension": ".py",
   "mimetype": "text/x-python",
   "name": "python",
   "nbconvert_exporter": "python",
   "pygments_lexer": "ipython3",
   "version": "3.9.7"
  }
 },
 "nbformat": 4,
 "nbformat_minor": 5
}
